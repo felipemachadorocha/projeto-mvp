{
 "cells": [
  {
   "cell_type": "code",
   "execution_count": 0,
   "metadata": {
    "application/vnd.databricks.v1+cell": {
     "cellMetadata": {
      "byteLimit": 2048000,
      "rowLimit": 10000
     },
     "inputWidgets": {},
     "nuid": "9865f363-9beb-4cc3-91c5-df7ae834af4e",
     "showTitle": false,
     "tableResultSettingsMap": {},
     "title": ""
    }
   },
   "outputs": [],
   "source": [
    "# Importanto Bibliotecas\n",
    "from pyspark.sql.types  import *\n",
    "from pyspark.sql.window import Window\n",
    "from pyspark.sql.functions import * "
   ]
  },
  {
   "cell_type": "markdown",
   "metadata": {
    "application/vnd.databricks.v1+cell": {
     "cellMetadata": {},
     "inputWidgets": {},
     "nuid": "99482aba-2e7b-4f4c-a816-63b96c325f82",
     "showTitle": false,
     "tableResultSettingsMap": {},
     "title": ""
    }
   },
   "source": [
    "####Criando a pasta no diretório e carregando os arquivos."
   ]
  },
  {
   "cell_type": "code",
   "execution_count": 0,
   "metadata": {
    "application/vnd.databricks.v1+cell": {
     "cellMetadata": {
      "byteLimit": 2048000,
      "rowLimit": 10000
     },
     "inputWidgets": {},
     "nuid": "346a4edd-a5fa-46d1-86c7-b21908fdef6c",
     "showTitle": false,
     "tableResultSettingsMap": {},
     "title": ""
    }
   },
   "outputs": [],
   "source": [
    "# Criando uma pasta para armazenar os dados que estão em CSV\n",
    "dbutils.fs.mkdirs('FileStore/tables/arquivos_mvp')"
   ]
  },
  {
   "cell_type": "code",
   "execution_count": 0,
   "metadata": {
    "application/vnd.databricks.v1+cell": {
     "cellMetadata": {
      "byteLimit": 2048000,
      "rowLimit": 10000
     },
     "inputWidgets": {},
     "nuid": "ee718e57-4ba3-4e24-8c3d-2948f2b0f230",
     "showTitle": false,
     "tableResultSettingsMap": {},
     "title": ""
    }
   },
   "outputs": [],
   "source": [
    "# Após a realização do carregamento dos arquivos no DBFS, verificar se os arquivos foram carregados corretamente.\n",
    "display(dbutils.fs.ls('FileStore/tables/arquivos_mvp'))"
   ]
  },
  {
   "cell_type": "code",
   "execution_count": 0,
   "metadata": {
    "application/vnd.databricks.v1+cell": {
     "cellMetadata": {
      "byteLimit": 2048000,
      "rowLimit": 10000
     },
     "inputWidgets": {},
     "nuid": "f67e25e7-4261-43bb-b2de-edf9e430cf0a",
     "showTitle": false,
     "tableResultSettingsMap": {},
     "title": ""
    }
   },
   "outputs": [],
   "source": [
    "# Carregando o arquivo CSV de Compras do DBFS\n",
    "dbfs_compras = '/FileStore/tables/arquivos_mvp/Compras.csv'\n",
    "\n",
    "# Lendo o arquivo CSV para um DataFrame\n",
    "df_compras = spark.read.csv(dbfs_compras, header=True, inferSchema=True)\n",
    "\n",
    "# Exibindo o DataFrame\n",
    "display(df_compras)"
   ]
  },
  {
   "cell_type": "code",
   "execution_count": 0,
   "metadata": {
    "application/vnd.databricks.v1+cell": {
     "cellMetadata": {
      "byteLimit": 2048000,
      "rowLimit": 10000
     },
     "inputWidgets": {},
     "nuid": "c1ab242c-1ed1-416a-baee-dc3f6d171cce",
     "showTitle": false,
     "tableResultSettingsMap": {},
     "title": ""
    }
   },
   "outputs": [],
   "source": [
    "# Carregando o arquivo CSV de Clientes do DBFS\n",
    "dbfs_clientes = '/FileStore/tables/arquivos_mvp/Clientes.csv'\n",
    "\n",
    "# Lendo o arquivo CSV para um DataFrame\n",
    "df_clientes = spark.read.csv(dbfs_clientes, header=True, inferSchema=True)\n",
    "\n",
    "# Exibindo o DataFrame\n",
    "display(df_clientes)"
   ]
  },
  {
   "cell_type": "markdown",
   "metadata": {
    "application/vnd.databricks.v1+cell": {
     "cellMetadata": {},
     "inputWidgets": {},
     "nuid": "87c7884e-c125-43f4-b331-34d59ec08451",
     "showTitle": false,
     "tableResultSettingsMap": {},
     "title": ""
    }
   },
   "source": [
    "####Verificando e tratando o arquivo Clientes"
   ]
  },
  {
   "cell_type": "code",
   "execution_count": 0,
   "metadata": {
    "application/vnd.databricks.v1+cell": {
     "cellMetadata": {
      "byteLimit": 2048000,
      "rowLimit": 10000
     },
     "inputWidgets": {},
     "nuid": "c3cbbb5b-3008-41ca-8dcd-27a4c61cb352",
     "showTitle": false,
     "tableResultSettingsMap": {},
     "title": ""
    }
   },
   "outputs": [],
   "source": [
    "# Verificando o tipo de arquivo de df_clientes\n",
    "df_clientes.printSchema()"
   ]
  },
  {
   "cell_type": "code",
   "execution_count": 0,
   "metadata": {
    "application/vnd.databricks.v1+cell": {
     "cellMetadata": {
      "byteLimit": 2048000,
      "rowLimit": 10000
     },
     "inputWidgets": {},
     "nuid": "bf9209d0-729a-4575-b0fb-52a5ffd8bf32",
     "showTitle": false,
     "tableResultSettingsMap": {},
     "title": ""
    }
   },
   "outputs": [],
   "source": [
    "# Verificando valores nulos na tabela clientes:\n",
    "for coluna in df_clientes.columns:\n",
    "    print(coluna, df_clientes.filter(col(coluna).isNull()).count())"
   ]
  },
  {
   "cell_type": "code",
   "execution_count": 0,
   "metadata": {
    "application/vnd.databricks.v1+cell": {
     "cellMetadata": {
      "byteLimit": 2048000,
      "rowLimit": 10000
     },
     "inputWidgets": {},
     "nuid": "a4f4349c-e7c0-4f7b-a30c-424c726310cf",
     "showTitle": false,
     "tableResultSettingsMap": {},
     "title": ""
    }
   },
   "outputs": [],
   "source": [
    "# Lógica para nova coluna 'GrupoIdade'\n",
    "df_clientes = df_clientes.withColumn(\n",
    "    \"GrupoIdade\",\n",
    "    when(col(\"Idade\") <= 17, \"1-17\")\n",
    "    .when((col(\"Idade\") >= 18) & (col(\"Idade\") <= 29), \"18-29\")\n",
    "    .when((col(\"Idade\") >= 30) & (col(\"Idade\") <= 39), \"30-39\")\n",
    "    .when((col(\"Idade\") >= 40) & (col(\"Idade\") <= 49), \"40-49\")\n",
    "    .when((col(\"Idade\") >= 50) & (col(\"Idade\") <= 60), \"50-60\")\n",
    "    .when((col(\"Idade\") > 60), \"+60\")\n",
    "    .otherwise(\"Não Classificado\")\n",
    ")\n",
    "\n",
    "# Exibe o DataFrame com a nova coluna\n",
    "display(df_clientes)"
   ]
  },
  {
   "cell_type": "code",
   "execution_count": 0,
   "metadata": {
    "application/vnd.databricks.v1+cell": {
     "cellMetadata": {
      "byteLimit": 2048000,
      "rowLimit": 10000
     },
     "inputWidgets": {},
     "nuid": "de5022da-7759-4f37-85df-f6d3e384497f",
     "showTitle": false,
     "tableResultSettingsMap": {},
     "title": ""
    }
   },
   "outputs": [],
   "source": [
    "# Tratando para que quando na tabela df_clientes na coluna \"Idade\" constar um valor nulo preencher com \"Não Informado\"\n",
    "\n",
    "df_clientes = df_clientes.withColumn(\n",
    "    \"Idade\",\n",
    "    when(col(\"Idade\").isNull(), \"Não Informado\").otherwise(col(\"Idade\"))\n",
    ")"
   ]
  },
  {
   "cell_type": "code",
   "execution_count": 0,
   "metadata": {
    "application/vnd.databricks.v1+cell": {
     "cellMetadata": {
      "byteLimit": 2048000,
      "rowLimit": 10000
     },
     "inputWidgets": {},
     "nuid": "c945c297-ba3a-428e-8d4b-ab9ea7228e56",
     "showTitle": false,
     "tableResultSettingsMap": {},
     "title": ""
    }
   },
   "outputs": [],
   "source": [
    "# Código para verificação do tratamento realizado\n",
    "display(df_clientes.filter(col(\"Idade\") == \"Não Informado\"))"
   ]
  },
  {
   "cell_type": "markdown",
   "metadata": {
    "application/vnd.databricks.v1+cell": {
     "cellMetadata": {},
     "inputWidgets": {},
     "nuid": "6a700df8-86cf-4117-937a-8dbfadbc0b74",
     "showTitle": false,
     "tableResultSettingsMap": {},
     "title": ""
    }
   },
   "source": [
    "####Verificando e tratando o arquivo Compras"
   ]
  },
  {
   "cell_type": "code",
   "execution_count": 0,
   "metadata": {
    "application/vnd.databricks.v1+cell": {
     "cellMetadata": {
      "byteLimit": 2048000,
      "rowLimit": 10000
     },
     "inputWidgets": {},
     "nuid": "2eb4b579-9726-4b13-bc8a-c65bfbe8f503",
     "showTitle": false,
     "tableResultSettingsMap": {},
     "title": ""
    }
   },
   "outputs": [],
   "source": [
    "# Verificando o tipo de arquivo de df_compras:\n",
    "df_compras.printSchema()"
   ]
  },
  {
   "cell_type": "code",
   "execution_count": 0,
   "metadata": {
    "application/vnd.databricks.v1+cell": {
     "cellMetadata": {
      "byteLimit": 2048000,
      "rowLimit": 10000
     },
     "inputWidgets": {},
     "nuid": "6606f5b1-6dcf-4bae-a27b-9606aa480598",
     "showTitle": false,
     "tableResultSettingsMap": {},
     "title": ""
    }
   },
   "outputs": [],
   "source": [
    "# Verificando valores nulos na tabela compras:\n",
    "for coluna in df_compras.columns:\n",
    "    print(coluna, df_compras.filter(col(coluna).isNull()).count())"
   ]
  },
  {
   "cell_type": "code",
   "execution_count": 0,
   "metadata": {
    "application/vnd.databricks.v1+cell": {
     "cellMetadata": {
      "byteLimit": 2048000,
      "rowLimit": 10000
     },
     "inputWidgets": {},
     "nuid": "2f72a973-554c-4734-9915-d819d34d6c67",
     "showTitle": false,
     "tableResultSettingsMap": {},
     "title": ""
    }
   },
   "outputs": [],
   "source": [
    "# Tratando para que quando na tabela df_compras na coluna \"Destino\" constar um valor nulo preencher com \"Não Informado\"\n",
    "\n",
    "df_compras = df_compras.withColumn(\n",
    "    \"Destino\",\n",
    "    when(col(\"Destino\").isNull(), \"Não Informado\").otherwise(col(\"Destino\"))\n",
    ")"
   ]
  },
  {
   "cell_type": "code",
   "execution_count": 0,
   "metadata": {
    "application/vnd.databricks.v1+cell": {
     "cellMetadata": {
      "byteLimit": 2048000,
      "rowLimit": 10000
     },
     "inputWidgets": {},
     "nuid": "a9d6fa61-2d69-4ac4-829a-c963970d29c9",
     "showTitle": false,
     "tableResultSettingsMap": {},
     "title": ""
    }
   },
   "outputs": [],
   "source": [
    "# Código para verificação do tratamento realizado\n",
    "display(df_compras.filter(col(\"Destino\") == \"Não Informado\"))"
   ]
  },
  {
   "cell_type": "code",
   "execution_count": 0,
   "metadata": {
    "application/vnd.databricks.v1+cell": {
     "cellMetadata": {
      "byteLimit": 2048000,
      "rowLimit": 10000
     },
     "inputWidgets": {},
     "nuid": "f5108388-b181-4bba-be09-81cf74caf413",
     "showTitle": false,
     "tableResultSettingsMap": {},
     "title": ""
    }
   },
   "outputs": [],
   "source": [
    "#Primeiro Passo - Incluindo uma nova coluna para a contagem de compras Aprovadas e Canceladas, esse processo é necessário pois um cliente pode comprar mais de uma passagem em uma mesma compra. Com isso, o localizador se repete; então, é realizada a contagem dos localizadores, ou seja, das compras realizadas pelo cliente, aprovadas ou canceladas. O resultado dessa contagem e colocado em apenas uma linha. \n",
    "\n",
    "# 1. Agrupando por ClienteId, Localizador, TipoCompra e Destino para contar as compras por status\n",
    "df_contagem_localizadores = df_compras.groupBy(\"ClienteId\", \"Localizador\", \"TipoCompra\",\"Destino\") \\\n",
    "    .agg(\n",
    "        sum(when(col(\"StatusVenda\") == \"SALE_APPROVED\", 1).otherwise(0)).alias(\"ContagemAprovadosLocalizador\"),\n",
    "        sum(when(col(\"StatusVenda\") == \"SALE_CANCELED\", 1).otherwise(0)).alias(\"ContagemCanceladosLocalizador\")\n",
    "    )\n",
    "\n",
    "# 2. Definindo a janela para ordenar as compras por VendaId\n",
    "window_spec = Window.partitionBy(\"ClienteId\").orderBy(\"VendaId\")\n",
    "\n",
    "# 3. Realizando um join com o DataFrame original para incluir as colunas calculdas\n",
    "df_compras_join = df_compras.join(\n",
    "    df_contagem_localizadores, [\"ClienteId\", \"Localizador\", \"TipoCompra\",\"Destino\"], \"left\"\n",
    ")\n",
    "\n",
    "# 4. Definindo a janela para identificar a primeira ocorrência de cada Localizador \n",
    "window_spec_localizador = Window.partitionBy(\"ClienteId\", \"Localizador\", \"TipoCompra\", \"Destino\").orderBy(\"VendaId\")\n",
    "\n",
    "# 5. Criando as colunas com lógica para contar quantas passagens o cliente comprou em uma única compra\n",
    "df_compras_contagem = df_compras_join.withColumn(\n",
    "    \"PrimeiraOcorrenciaLocalizador\",\n",
    "    row_number().over(window_spec_localizador)\n",
    ").withColumn(\n",
    "    \"NumeroComprasAprovadas\",\n",
    "    when(col(\"PrimeiraOcorrenciaLocalizador\") == 1, col(\"ContagemAprovadosLocalizador\")).otherwise(0)\n",
    ").withColumn(\n",
    "    \"NumeroVendasCanceladas\",\n",
    "    when(col(\"PrimeiraOcorrenciaLocalizador\") == 1, -col(\"ContagemCanceladosLocalizador\")).otherwise(0)\n",
    ").drop(\"ContagemAprovadosLocalizador\", \"ContagemCanceladosLocalizador\", \"PrimeiraOcorrenciaLocalizador\")\n",
    "\n",
    "# Para visualizar o DataFrame com as novas colunas:\n",
    "display(df_compras_contagem)"
   ]
  },
  {
   "cell_type": "code",
   "execution_count": 0,
   "metadata": {
    "application/vnd.databricks.v1+cell": {
     "cellMetadata": {
      "byteLimit": 2048000,
      "rowLimit": 10000
     },
     "inputWidgets": {},
     "nuid": "3f30aa2d-f60b-478d-8ad3-7dd0248e2213",
     "showTitle": false,
     "tableResultSettingsMap": {},
     "title": ""
    }
   },
   "outputs": [],
   "source": [
    "#Criando tabela virtual temporaria do SQL \n",
    "df_compras_contagem.createOrReplaceTempView(\"compras_contagem\")"
   ]
  },
  {
   "cell_type": "code",
   "execution_count": 0,
   "metadata": {
    "application/vnd.databricks.v1+cell": {
     "cellMetadata": {
      "byteLimit": 2048000,
      "implicitDf": true,
      "rowLimit": 10000
     },
     "inputWidgets": {},
     "nuid": "b9febf7c-2734-4465-8a4b-9e4f023f2e8a",
     "showTitle": true,
     "tableResultSettingsMap": {},
     "title": "Script para visualizar a inclusão das novas Colunas"
    }
   },
   "outputs": [],
   "source": [
    "%sql\n",
    "SELECT \n",
    "  ClienteId,\n",
    "  sum(NumeroComprasAprovadas) ComprasAprovadas,\n",
    "  sum(NumeroVendasCanceladas) ComprasCanceladas\n",
    "FROM \n",
    "  compras_contagem\n",
    "GROUP BY\n",
    "  ClienteId"
   ]
  },
  {
   "cell_type": "code",
   "execution_count": 0,
   "metadata": {
    "application/vnd.databricks.v1+cell": {
     "cellMetadata": {
      "byteLimit": 2048000,
      "rowLimit": 10000
     },
     "inputWidgets": {},
     "nuid": "5bbcd53d-5dca-4f73-9640-27d9611e9669",
     "showTitle": false,
     "tableResultSettingsMap": {},
     "title": ""
    }
   },
   "outputs": [],
   "source": [
    "#Segundo Passo - Inclusão de nova coluna para identificar a primeira compra dos clientes. Essa coluna será importante para montar a regra de classificação da compra do cliente.Importante pontuar que, como um cliente pode comprar mais de uma passagem em uma mesma compra, então, se um cliente fez a compra de mais de uma passagem na mesma compra, então essas compras serão classificadas como primeira compra (True).\n",
    "\n",
    "# Define uma janela particionada por ClienteId e ordenada por DataCompra\n",
    "window_spec_cliente = Window.partitionBy(\"ClienteId\").orderBy(\"DataCompra\")\n",
    "\n",
    "# Adiciona uma coluna para numerar as compras de cada cliente por ordem de data\n",
    "df_compras_numerada = df_compras_contagem.withColumn(\n",
    "    \"NumeroCompraCliente\",\n",
    "    row_number().over(window_spec_cliente)\n",
    ")\n",
    "\n",
    "# Filtra a primeira compra de cada cliente\n",
    "df_primeira_compra = df_compras_numerada.filter(col(\"NumeroCompraCliente\") == 1)\n",
    "\n",
    "# Define uma janela particionada por ClienteId\n",
    "window_spec_cliente_agrupado = Window.partitionBy(\"ClienteId\")\n",
    "\n",
    "# Definir os localizadores da primeira compra em uma lista\n",
    "df_primeira_compra_agrupada = df_primeira_compra.withColumn(\n",
    "    \"LocalizadoresPrimeiraCompra\",\n",
    "    collect_list(\"Localizador\").over(window_spec_cliente_agrupado)\n",
    ")\n",
    "\n",
    "# Seleciona apenas as colunas ClienteId e LocalizadoresPrimeiraCompra\n",
    "df_primeira_compra_localizadores = df_primeira_compra_agrupada.select(\"ClienteId\", \"LocalizadoresPrimeiraCompra\")\n",
    "\n",
    "# Junta o DataFrame original com os localizadores da primeira compra\n",
    "df_compras_com_primeira = df_compras_numerada.join(df_primeira_compra_localizadores, \"ClienteId\", \"left\")\n",
    "\n",
    "# Cria a coluna 'PrimeiraCompra' usando array_contains\n",
    "df_compras_primeira_compra = df_compras_com_primeira.withColumn(\n",
    "    \"PrimeiraCompra\",\n",
    "    array_contains(col(\"LocalizadoresPrimeiraCompra\"), col(\"Localizador\"))\n",
    ").drop(\"LocalizadoresPrimeiraCompra\",\"NumeroCompraCliente\") \n",
    "\n",
    "#Para visualizar o DataFrame com a nova coluna:\n",
    "display(df_compras_primeira_compra)"
   ]
  },
  {
   "cell_type": "code",
   "execution_count": 0,
   "metadata": {
    "application/vnd.databricks.v1+cell": {
     "cellMetadata": {
      "byteLimit": 2048000,
      "rowLimit": 10000
     },
     "inputWidgets": {},
     "nuid": "64b88946-10d1-4841-825d-4255afdbad83",
     "showTitle": false,
     "tableResultSettingsMap": {},
     "title": ""
    }
   },
   "outputs": [],
   "source": [
    "#Criando tabela virtual temporaria do SQL \n",
    "df_compras_primeira_compra.createOrReplaceTempView(\"compras_primeira_compra\")"
   ]
  },
  {
   "cell_type": "code",
   "execution_count": 0,
   "metadata": {
    "application/vnd.databricks.v1+cell": {
     "cellMetadata": {
      "byteLimit": 2048000,
      "implicitDf": true,
      "rowLimit": 10000
     },
     "inputWidgets": {},
     "nuid": "bca2b089-03b1-48be-8126-a6905a6477e3",
     "showTitle": true,
     "tableResultSettingsMap": {},
     "title": "Script para visualizar a inclusão da nova Coluna"
    }
   },
   "outputs": [],
   "source": [
    "%sql\n",
    "SELECT\n",
    "  ClienteId,\n",
    "  DataCompra,\n",
    "  PrimeiraCompra\n",
    "FROM\n",
    "  compras_primeira_compra\n",
    "ORDER BY\n",
    "  ClienteId,\n",
    "  DataCompra"
   ]
  },
  {
   "cell_type": "code",
   "execution_count": 0,
   "metadata": {
    "application/vnd.databricks.v1+cell": {
     "cellMetadata": {
      "byteLimit": 2048000,
      "rowLimit": 10000
     },
     "inputWidgets": {},
     "nuid": "9f3fa389-1616-4968-8459-8ad8acb88ce5",
     "showTitle": false,
     "tableResultSettingsMap": {},
     "title": ""
    }
   },
   "outputs": [],
   "source": [
    "#Teceiro Passo - Inclusão da coluna com o total de compras realizadas pelo cliente. Essa coluna contará de forma distinta os localizadores para saber quantas compras foram realizadas pelos clientes. Esse passo é importante para identificar se o cliente está realizando uma recompra ou não.\n",
    "\n",
    "# Contando os localizadores com StatusVenda 'SALE_APPROVED' e agrupar por ClienteId e Localizador\n",
    "df_aprovados = df_compras_primeira_compra.filter(col(\"StatusVenda\") == \"SALE_APPROVED\") \\\n",
    "    .groupBy(\"ClienteId\", \"Localizador\") \\\n",
    "    .agg(count(\"*\").alias(\"CountAprovados\"))\n",
    "\n",
    "# Contando os localizadores com StatusVenda 'SALE_CANCELED' e agrupar por ClienteId e Localizador\n",
    "df_cancelados = df_compras_primeira_compra.filter(col(\"StatusVenda\") == \"SALE_CANCELED\") \\\n",
    "    .groupBy(\"ClienteId\", \"Localizador\") \\\n",
    "    .agg(count(\"*\").alias(\"CountCancelados\"))\n",
    "\n",
    "# Realizando um join entre os dataframes de aprovados e cancelados\n",
    "df_combinado = df_aprovados.join(df_cancelados, [\"ClienteId\", \"Localizador\"], \"full\") \\\n",
    "    .fillna(0)\n",
    "\n",
    "# Realizando a contagem dos localizadores\n",
    "df_contagem_localizador = df_combinado.withColumn(\n",
    "    \"ContagemLocalizador\",\n",
    "    when(col(\"CountAprovados\") > col(\"CountCancelados\"), 1)\n",
    "    .otherwise(0)\n",
    ")\n",
    "\n",
    "# Realizando a soma dos localizadores distintos e agrupando por ClienteId \n",
    "df_contagem = df_contagem_localizador.groupBy(\"ClienteId\") \\\n",
    "    .agg(count(\"*\").alias(\"TotalLocalizadores\"),  # Contagem total de localizadores (para referência)\n",
    "         sum(\"ContagemLocalizador\").alias(\"TotalCompras\"))\n",
    "\n",
    "# Realizando um join para incluir a nova coluna\n",
    "df_compras_total = df_compras_primeira_compra.join(df_contagem.select(\"ClienteId\", \"TotalCompras\"), \"ClienteId\", \"left\")\n",
    "\n",
    "# Para visualizar o DataFrame com a nova coluna:\n",
    "display(df_compras_total)"
   ]
  },
  {
   "cell_type": "code",
   "execution_count": 0,
   "metadata": {
    "application/vnd.databricks.v1+cell": {
     "cellMetadata": {
      "byteLimit": 2048000,
      "rowLimit": 10000
     },
     "inputWidgets": {},
     "nuid": "b439fca7-9a39-457a-bb0d-5cb4aca23bd6",
     "showTitle": false,
     "tableResultSettingsMap": {},
     "title": ""
    }
   },
   "outputs": [],
   "source": [
    "#Criando tabela virtual temporaria do SQL \n",
    "df_compras_total.createOrReplaceTempView(\"compras_total\")"
   ]
  },
  {
   "cell_type": "code",
   "execution_count": 0,
   "metadata": {
    "application/vnd.databricks.v1+cell": {
     "cellMetadata": {
      "byteLimit": 2048000,
      "implicitDf": true,
      "rowLimit": 10000
     },
     "inputWidgets": {},
     "nuid": "5c448c47-6bde-495b-b292-60be2efa1f81",
     "showTitle": true,
     "tableResultSettingsMap": {},
     "title": "Script para visualizar a inclusão da nova Coluna"
    }
   },
   "outputs": [],
   "source": [
    "%sql\n",
    "SELECT DISTINCT\n",
    "  ClienteId,\n",
    "  TotalCompras\n",
    "FROM\n",
    "  compras_total"
   ]
  },
  {
   "cell_type": "code",
   "execution_count": 0,
   "metadata": {
    "application/vnd.databricks.v1+cell": {
     "cellMetadata": {
      "byteLimit": 2048000,
      "rowLimit": 10000
     },
     "inputWidgets": {},
     "nuid": "20fe072d-661c-4373-9c75-75d6831c76f0",
     "showTitle": false,
     "tableResultSettingsMap": {},
     "title": ""
    }
   },
   "outputs": [],
   "source": [
    "#Quarto passo - Somente realizando o agrupamento e plotando apenas as colunas necessárias\n",
    "\n",
    "# Realiza o tratamento para agrupar os totais de compras aprovadas e canceladas\n",
    "df_compras_agg = df_compras_total.groupBy(\n",
    "    \"ClienteId\",\n",
    "    \"Localizador\",\n",
    "    \"DataCompra\",\n",
    "    \"Destino\",\n",
    "    \"MesAnoCompra\",\n",
    "    \"TipoCompra\",\n",
    "    \"PrimeiraCompra\",\n",
    "    \"TotalCompras\",\n",
    ").agg(\n",
    "    sum(\"NumeroComprasAprovadas\").alias(\"NumeroComprasAprovadas\"),\n",
    "    sum(\"NumeroVendasCanceladas\").alias(\"NumeroVendasCanceladas\"),\n",
    ")\n",
    "\n",
    "# Exibindo o schema\n",
    "display(df_compras_agg)"
   ]
  },
  {
   "cell_type": "code",
   "execution_count": 0,
   "metadata": {
    "application/vnd.databricks.v1+cell": {
     "cellMetadata": {
      "byteLimit": 2048000,
      "rowLimit": 10000
     },
     "inputWidgets": {},
     "nuid": "18e4c695-b813-432b-92ff-a52ad0ed8b3e",
     "showTitle": false,
     "tableResultSettingsMap": {},
     "title": ""
    }
   },
   "outputs": [],
   "source": [
    "# Quinto Passo - Criando uma nova coluna para classificar as compras de acordo com as regras aplicadas abaixo.\n",
    "\n",
    "# Cria a nova coluna 'CompraAux' somando as colunas existentes\n",
    "df_compras_aux = df_compras_agg.withColumn(\"CompraAux\", col(\"NumeroComprasAprovadas\") + col(\"NumeroVendasCanceladas\"))\n",
    "\n",
    "# Cria a nova coluna 'StatusCompra' com base na condição, utilizando o DataFrame 'df_compras_aux'\n",
    "df_compras_aux = df_compras_aux.withColumn(\n",
    "    \"StatusCompra\",\n",
    "    when(col(\"CompraAux\") > 0, 1).otherwise(0)\n",
    ").drop(\"CompraAux\")\n",
    "\n",
    "df_compras_final = df_compras_aux.withColumn(\n",
    "    \"ClassificacaoCompra\",\n",
    "    when((col(\"TotalCompras\") == 0) & (col(\"StatusCompra\") == 0), \"Sem Compra\")\n",
    "    .when((col(\"TotalCompras\") == 1) & (col(\"StatusCompra\") == 1) & (col(\"PrimeiraCompra\") == True), \"Primeira Compra(Única)\")\n",
    "    .when((col(\"TotalCompras\") == 1) & (col(\"StatusCompra\") == 0) & (col(\"PrimeiraCompra\") == True), \"Primeira Compra(Cancelada)\")\n",
    "    .when((col(\"TotalCompras\") == 1) & (col(\"StatusCompra\") == 0) & (col(\"PrimeiraCompra\") == False), \"Compra Cancelada(Recompra)\")\n",
    "    .when((col(\"TotalCompras\") == 1) & (col(\"StatusCompra\") == 1) & (col(\"PrimeiraCompra\") == False), \"Compra Única(Recompra)\")\n",
    "    .when((col(\"TotalCompras\") > 1) & (col(\"StatusCompra\") == 0) & (col(\"PrimeiraCompra\") == False), \"Compra Cancelada\")\n",
    "    .when((col(\"TotalCompras\") > 1) & (col(\"StatusCompra\") == 0) & (col(\"PrimeiraCompra\") == True), \"Primeira Compra(Cancelada)\")\n",
    "    .when((col(\"TotalCompras\") > 1) & (col(\"StatusCompra\") == 1) & (col(\"PrimeiraCompra\") == True), \"Primeira Compra\")\n",
    "    .when((col(\"TotalCompras\") > 1) & (col(\"StatusCompra\") == 1) & (col(\"PrimeiraCompra\") == False), \"Recompra\")\n",
    ").drop(\"StatusCompra\",\"PrimeiraCompra\",\"TotalCompras\")\n",
    "\n",
    "# Para visualizar o DataFrame com a nova coluna:\n",
    "display(df_compras_final)"
   ]
  },
  {
   "cell_type": "code",
   "execution_count": 0,
   "metadata": {
    "application/vnd.databricks.v1+cell": {
     "cellMetadata": {
      "byteLimit": 2048000,
      "implicitDf": true,
      "rowLimit": 10000
     },
     "inputWidgets": {},
     "nuid": "8327d5fc-2093-4556-adf7-48c40baf7381",
     "showTitle": true,
     "tableResultSettingsMap": {},
     "title": "Criando o DataBase"
    }
   },
   "outputs": [],
   "source": [
    "%sql\n",
    "CREATE DATABASE IF NOT EXISTS mvp"
   ]
  },
  {
   "cell_type": "code",
   "execution_count": 0,
   "metadata": {
    "application/vnd.databricks.v1+cell": {
     "cellMetadata": {
      "byteLimit": 2048000,
      "implicitDf": true,
      "rowLimit": 10000
     },
     "inputWidgets": {},
     "nuid": "fcdebc16-6884-4039-bc0c-4c8ed6514a78",
     "showTitle": true,
     "tableResultSettingsMap": {},
     "title": "Criando Tabela Compras"
    }
   },
   "outputs": [],
   "source": [
    "%sql\n",
    "USE mvp;\n",
    "CREATE TABLE IF NOT EXISTS compras(\n",
    "ClienteId integer,\n",
    "Localizador string,\n",
    "DataCompra date,\n",
    "Destino string,\n",
    "MesAnoCompra string,\n",
    "TipoCompra string,\n",
    "NumeroComprasAprovadas long,\n",
    "NumeroVendasCanceladas long,\n",
    "ClassificacaoCompra string\n",
    ")"
   ]
  },
  {
   "cell_type": "code",
   "execution_count": 0,
   "metadata": {
    "application/vnd.databricks.v1+cell": {
     "cellMetadata": {
      "byteLimit": 2048000,
      "rowLimit": 10000
     },
     "inputWidgets": {},
     "nuid": "6af33c66-5dec-419a-b23a-ce0771fa8924",
     "showTitle": true,
     "tableResultSettingsMap": {},
     "title": "Realizando ingestão dos dados da tabela Compras"
    }
   },
   "outputs": [],
   "source": [
    "database_name = \"mvp\"\n",
    "table_name = \"compras\"\n",
    "df_compras_final.write.format(\"delta\").mode(\"overwrite\").saveAsTable(f\"{database_name}.{table_name}\")"
   ]
  },
  {
   "cell_type": "code",
   "execution_count": 0,
   "metadata": {
    "application/vnd.databricks.v1+cell": {
     "cellMetadata": {
      "byteLimit": 2048000,
      "implicitDf": true,
      "rowLimit": 10000
     },
     "inputWidgets": {},
     "nuid": "0935c5a2-f54c-4823-9f16-19f5d671bbea",
     "showTitle": true,
     "tableResultSettingsMap": {},
     "title": "Criando Tabela Clientes"
    }
   },
   "outputs": [],
   "source": [
    "%sql\n",
    "USE mvp;\n",
    "CREATE TABLE IF NOT EXISTS clientes(\n",
    "ClienteId integer,\n",
    "DataCadastro date,\n",
    "MesAnoCadastro string,\n",
    "Idade string,\n",
    "GrupoIdade string\n",
    ")"
   ]
  },
  {
   "cell_type": "code",
   "execution_count": 0,
   "metadata": {
    "application/vnd.databricks.v1+cell": {
     "cellMetadata": {
      "byteLimit": 2048000,
      "rowLimit": 10000
     },
     "inputWidgets": {},
     "nuid": "ab7ea5f9-645e-4bec-84f7-b9d45b83d542",
     "showTitle": true,
     "tableResultSettingsMap": {},
     "title": "Realizando ingestão dos dados da tabela Clientes"
    }
   },
   "outputs": [],
   "source": [
    "database_name = \"mvp\"\n",
    "table_name = \"clientes\"\n",
    "df_clientes.write.format(\"delta\").mode(\"overwrite\").saveAsTable(f\"{database_name}.{table_name}\")"
   ]
  },
  {
   "cell_type": "code",
   "execution_count": 0,
   "metadata": {
    "application/vnd.databricks.v1+cell": {
     "cellMetadata": {
      "byteLimit": 2048000,
      "implicitDf": true,
      "rowLimit": 10000
     },
     "inputWidgets": {},
     "nuid": "43ae7be3-ebfa-4dac-b343-c23bc7571232",
     "showTitle": true,
     "tableResultSettingsMap": {},
     "title": "Script para realizar as análises"
    }
   },
   "outputs": [],
   "source": [
    "%sql\n",
    "SELECT * FROM mvp.clientes"
   ]
  },
  {
   "cell_type": "code",
   "execution_count": 0,
   "metadata": {
    "application/vnd.databricks.v1+cell": {
     "cellMetadata": {
      "byteLimit": 2048000,
      "implicitDf": true,
      "rowLimit": 10000
     },
     "inputWidgets": {},
     "nuid": "681fa94e-d5c2-40dd-8529-2f3aa5acd894",
     "showTitle": true,
     "tableResultSettingsMap": {},
     "title": "Script para realizar as análises"
    }
   },
   "outputs": [],
   "source": [
    "%sql\n",
    "SELECT\n",
    "  cp.ClienteId,\n",
    "  cp.Localizador,\n",
    "  cp.Destino,\n",
    "  cp.DataCompra,\n",
    "  cp.MesAnoCompra,\n",
    "  cp.TipoCompra,\n",
    "  cl.GrupoIdade,\n",
    "  cp.NumeroComprasAprovadas ComprasAporvadas,\n",
    "  cp.NumeroVendasCanceladas ComprasCanceladas,\n",
    "  cp.ClassificacaoCompra\n",
    "FROM \n",
    "  mvp.compras cp\n",
    "  LEFT JOIN mvp.clientes cl ON (cp.ClienteId = cl.ClienteId)\n",
    "WHERE \n",
    "  year(cp.DataCompra) >='2024'"
   ]
  },
  {
   "cell_type": "code",
   "execution_count": 0,
   "metadata": {
    "application/vnd.databricks.v1+cell": {
     "cellMetadata": {},
     "inputWidgets": {},
     "nuid": "a50abc8f-3c9a-447d-8258-8e2d2579325f",
     "showTitle": false,
     "tableResultSettingsMap": {},
     "title": ""
    }
   },
   "outputs": [],
   "source": []
  }
 ],
 "metadata": {
  "application/vnd.databricks.v1+notebook": {
   "computePreferences": null,
   "dashboards": [],
   "environmentMetadata": {
    "base_environment": "",
    "environment_version": "2"
   },
   "inputWidgetPreferences": null,
   "language": "python",
   "notebookMetadata": {
    "mostRecentlyExecutedCommandWithImplicitDF": {
     "commandId": 8816053386508894,
     "dataframes": [
      "_sqldf"
     ]
    },
    "pythonIndentUnit": 4
   },
   "notebookName": "MPV - Felipe Machado",
   "widgets": {}
  },
  "language_info": {
   "name": "python"
  }
 },
 "nbformat": 4,
 "nbformat_minor": 0
}
